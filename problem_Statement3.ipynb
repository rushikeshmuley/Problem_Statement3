{
  "nbformat": 4,
  "nbformat_minor": 0,
  "metadata": {
    "colab": {
      "provenance": []
    },
    "kernelspec": {
      "name": "python3",
      "display_name": "Python 3"
    },
    "language_info": {
      "name": "python"
    }
  },
  "cells": [
    {
      "cell_type": "code",
      "source": [
        "pip install pydub\n"
      ],
      "metadata": {
        "colab": {
          "base_uri": "https://localhost:8080/"
        },
        "id": "clitDJqjHioQ",
        "outputId": "feff5168-c070-4aae-cd92-c3e0ad84731e"
      },
      "execution_count": 1,
      "outputs": [
        {
          "output_type": "stream",
          "name": "stdout",
          "text": [
            "Requirement already satisfied: pydub in /usr/local/lib/python3.10/dist-packages (0.25.1)\n"
          ]
        }
      ]
    },
    {
      "cell_type": "code",
      "source": [
        "import speech_recognition as sr\n",
        "from pydub import AudioSegment\n",
        "\n",
        "def convert_mp3_to_wav(mp3_file):\n",
        "    # Load MP3 file\n",
        "    audio = AudioSegment.from_mp3(mp3_file)\n",
        "\n",
        "    # Convert to WAV format (16-bit PCM)\n",
        "    wav_file = mp3_file[:-4] + \".wav\"  # Replace .mp3 extension with .wav\n",
        "    audio.export(wav_file, format=\"wav\")\n",
        "\n",
        "    return wav_file\n",
        "\n",
        "def transcribe_audio(audio_file, language='en-US'):\n",
        "    # Convert MP3 to WAV\n",
        "    wav_file = convert_mp3_to_wav(audio_file)\n",
        "\n",
        "    # Initialize the recognizer\n",
        "    recognizer = sr.Recognizer()\n",
        "\n",
        "    # Load audio file\n",
        "    with sr.AudioFile(wav_file) as source:\n",
        "        audio_data = recognizer.record(source)\n",
        "\n",
        "    # Perform speech recognition using PocketSphinx\n",
        "    try:\n",
        "        transcription = recognizer.recognize_sphinx(audio_data, language=language)\n",
        "        return transcription\n",
        "    except sr.UnknownValueError:\n",
        "        print(\"PocketSphinx could not understand the audio.\")\n",
        "    except sr.RequestError as e:\n",
        "        print(f\"Error occurred in PocketSphinx: {e}\")\n",
        "\n",
        "# Example usage\n",
        "audio_file = '/content/_6353983132.mp3'\n",
        "transcription = transcribe_audio(audio_file)\n",
        "print(\"Transcription:\", transcription)\n"
      ],
      "metadata": {
        "colab": {
          "base_uri": "https://localhost:8080/"
        },
        "id": "KbXaKMwAHuZO",
        "outputId": "b3e14b59-78ee-424f-f829-8be6932cd58a"
      },
      "execution_count": 2,
      "outputs": [
        {
          "output_type": "stream",
          "name": "stdout",
          "text": [
            "Transcription: let let me get angry when he or within the membrane are not real number i can do your looting or ina and warm him or not yet learned that remark the rule in our thinking he got drunk and i'm getting any old line over an earlier in the light that are either guard the we are really you're going early the way you are legally the working on an attorney at our world we anchored oh that no will to do you think the thing i regret any hidden camera market are you angry at her own are to argue the wrong oh i think they were are lagging or may not win a o'rourke we're on our own room then the irony i learned legal or illegal or the long run we are too many are better than anger at last and were i in the one oh good i'm really a party now on model and i we can eat an hour our were at work or were partly and our the article and while you willing to honor you do you're already are you are huge army archerd a good girl would you a rumor he gained the inner are anger arteaga and ng accordingly at me i got really get a lot lately in our work and that i was rather body armor i had not told you we are working in the army or not i mean when you're all the good\n"
          ]
        }
      ]
    },
    {
      "cell_type": "code",
      "source": [
        "import speech_recognition as sr\n",
        "from pydub import AudioSegment\n",
        "\n",
        "def convert_mp3_to_wav(mp3_file):\n",
        "    # Load MP3 file\n",
        "    audio = AudioSegment.from_mp3(mp3_file)\n",
        "\n",
        "    # Convert to WAV format (16-bit PCM)\n",
        "    wav_file = mp3_file[:-4] + \".wav\"  # Replace .mp3 extension with .wav\n",
        "    audio.export(wav_file, format=\"wav\")\n",
        "\n",
        "    return wav_file\n",
        "\n",
        "def transcribe_audio(audio_file, language='en-US'):\n",
        "    # Convert MP3 to WAV\n",
        "    wav_file = convert_mp3_to_wav(audio_file)\n",
        "\n",
        "    # Initialize the recognizer\n",
        "    recognizer = sr.Recognizer()\n",
        "\n",
        "    # Load audio file\n",
        "    with sr.AudioFile(wav_file) as source:\n",
        "        audio_data = recognizer.record(source)\n",
        "\n",
        "    # Perform speech recognition using PocketSphinx\n",
        "    try:\n",
        "        transcription = recognizer.recognize_sphinx(audio_data, language=language)\n",
        "        return transcription\n",
        "    except sr.UnknownValueError:\n",
        "        print(\"PocketSphinx could not understand the audio.\")\n",
        "    except sr.RequestError as e:\n",
        "        print(f\"Error occurred in PocketSphinx: {e}\")\n",
        "\n",
        "# Example usage\n",
        "audio_file = '/content/audio_folder/_6009307107.mp3'\n",
        "transcription = transcribe_audio(audio_file)\n",
        "print(\"Transcription:\", transcription)"
      ],
      "metadata": {
        "colab": {
          "base_uri": "https://localhost:8080/"
        },
        "id": "UYvp6AWcLFG-",
        "outputId": "c5341519-dda5-4fc0-cf94-8e405b8a1f4d"
      },
      "execution_count": 3,
      "outputs": [
        {
          "output_type": "stream",
          "name": "stdout",
          "text": [
            "Transcription: in oh i got a department of murder in the long run the hour on old year lately but now are you are the lily are narrow we're really didn't i believe that we we cannot let that not only that the and lured are caught in the rural or or hero runner and yet on the role the let let let him get the hell are out in the air or the really are we really are and that looked o. ruler are through your whole why our murderer robert or not look at the lab at any minute and we'll include your court will rule in our own god i'm outta the line and in iraq the that he that are that are coming at all we can i know i and the lot a u. the a. m. look good on larry the debt me the money into our new york at the liquor or butler ude weaker look particularly the gorton argued over you\n"
          ]
        }
      ]
    },
    {
      "cell_type": "code",
      "source": [
        "import speech_recognition as sr\n",
        "from pydub import AudioSegment\n",
        "\n",
        "def convert_mp3_to_wav(mp3_file):\n",
        "    # Load MP3 file\n",
        "    audio = AudioSegment.from_mp3(mp3_file)\n",
        "\n",
        "    # Convert to WAV format (16-bit PCM)\n",
        "    wav_file = mp3_file[:-4] + \".wav\"  # Replace .mp3 extension with .wav\n",
        "    audio.export(wav_file, format=\"wav\")\n",
        "\n",
        "    return wav_file\n",
        "\n",
        "def transcribe_audio(audio_file, language='en-US'):\n",
        "    # Convert MP3 to WAV\n",
        "    wav_file = convert_mp3_to_wav(audio_file)\n",
        "\n",
        "    # Initialize the recognizer\n",
        "    recognizer = sr.Recognizer()\n",
        "\n",
        "    # Load audio file\n",
        "    with sr.AudioFile(wav_file) as source:\n",
        "        audio_data = recognizer.record(source)\n",
        "\n",
        "    # Perform speech recognition using PocketSphinx\n",
        "    try:\n",
        "        transcription = recognizer.recognize_sphinx(audio_data, language=language)\n",
        "        return transcription\n",
        "    except sr.UnknownValueError:\n",
        "        print(\"PocketSphinx could not understand the audio.\")\n",
        "    except sr.RequestError as e:\n",
        "        print(f\"Error occurred in PocketSphinx: {e}\")\n",
        "\n",
        "# Example usage\n",
        "audio_file = '/content/audio_folder/_6267102133.mp3'\n",
        "transcription = transcribe_audio(audio_file)\n",
        "print(\"Transcription:\", transcription)"
      ],
      "metadata": {
        "colab": {
          "base_uri": "https://localhost:8080/"
        },
        "id": "SGNUpvWvMRTo",
        "outputId": "f7f8545b-e218-43ad-ecba-c03854e2af69"
      },
      "execution_count": 4,
      "outputs": [
        {
          "output_type": "stream",
          "name": "stdout",
          "text": [
            "Transcription: and will you forgot megabyte n. got a uniform and leaking and when i got a letter that in get the wing lee you re the man got a blow utley be put on at the i oh i don't think you can lower the the leadbelly let the let you get them running at me that out he the omelet he at got that i got in our own lawyer i have the yeah in the league and the angle i can ya they are on our left at all and all our little or nothing like that and we're are mute o. or um hum the owed the end you are an earful learned that he on learn ye by the women that are not in that i am not that i not only lightly and when the law who he and the interim i have the look in the lead and an old ugly or that the body are aligned with the or the or the the you are going to her i looking eagerly her a you are all under a the are earlier though you were only knew where we are the only then will get in the good law lure your lender all eat you can put on that and we are on the the new owner well lou the regular who are in the early good that they look at the right the lady are but a lot i get old all that the r. i. yet the usual or the one that only the gotten the parallel idly and the irony by the local mckinley in early i'll read it the early in our law or by the fact that we are in the iraqi out what learned that girl i'm a letter he led by the little in the home run them got a good lottie i'll you got a light at the garden and i i i get ya i do our ireland early in the area was there you see that look at oh the gun they are bent on your yet at all a weaker the one that got a man leader i'm the committee will the granada who\n"
          ]
        }
      ]
    },
    {
      "cell_type": "code",
      "source": [],
      "metadata": {
        "id": "NMwP2UeZZoWt"
      },
      "execution_count": null,
      "outputs": []
    }
  ]
}